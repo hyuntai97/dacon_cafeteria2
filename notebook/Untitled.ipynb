{
 "cells": [
  {
   "cell_type": "code",
   "execution_count": 5,
   "id": "1b1d9540",
   "metadata": {
    "ExecuteTime": {
     "end_time": "2021-06-23T14:54:58.949541Z",
     "start_time": "2021-06-23T14:54:58.936541Z"
    }
   },
   "outputs": [],
   "source": [
    "import pandas as pd\n",
    "import numpy as np\n",
    "import matplotlib.pyplot as plt\n",
    "plt.rc(\"font\", family = \"Malgun Gothic\")\n",
    "import seaborn as sns\n",
    "import warnings\n",
    "warnings.filterwarnings(action = \"ignore\")\n",
    "from tqdm.notebook import tqdm\n",
    "from datetime import timedelta\n",
    "# from workalendar.asia import SouthKorea\n",
    "from xgboost import XGBRegressor\n",
    "from sklearn.model_selection import GridSearchCV"
   ]
  },
  {
   "cell_type": "code",
   "execution_count": 7,
   "id": "b49108a0",
   "metadata": {
    "ExecuteTime": {
     "end_time": "2021-06-23T14:56:03.166723Z",
     "start_time": "2021-06-23T14:56:00.493252Z"
    }
   },
   "outputs": [],
   "source": [
    "import lightgbm as lgb"
   ]
  },
  {
   "cell_type": "code",
   "execution_count": 3,
   "id": "bdcf2504",
   "metadata": {
    "ExecuteTime": {
     "end_time": "2021-06-25T09:05:02.228179Z",
     "start_time": "2021-06-25T09:05:02.219188Z"
    }
   },
   "outputs": [],
   "source": [
    "import json\n",
    "with open('../params/xgb_default.json','r') as f:\n",
    "    json_data = json.load(f)"
   ]
  },
  {
   "cell_type": "code",
   "execution_count": 6,
   "id": "2a9e7559",
   "metadata": {
    "ExecuteTime": {
     "end_time": "2021-06-25T09:08:07.387049Z",
     "start_time": "2021-06-25T09:08:07.377053Z"
    }
   },
   "outputs": [
    {
     "data": {
      "text/plain": [
       "{'learning_rate': [0.1, 0.09, 0.089, 0.08],\n",
       " 'objective': ['reg:squarederror'],\n",
       " 'booster': ['gbtree', 'gblinear', 'dart']}"
      ]
     },
     "execution_count": 6,
     "metadata": {},
     "output_type": "execute_result"
    }
   ],
   "source": [
    "dict(json_data)"
   ]
  },
  {
   "cell_type": "code",
   "execution_count": null,
   "id": "216e1db0",
   "metadata": {},
   "outputs": [],
   "source": []
  }
 ],
 "metadata": {
  "kernelspec": {
   "display_name": "Python 3",
   "language": "python",
   "name": "python3"
  },
  "language_info": {
   "codemirror_mode": {
    "name": "ipython",
    "version": 3
   },
   "file_extension": ".py",
   "mimetype": "text/x-python",
   "name": "python",
   "nbconvert_exporter": "python",
   "pygments_lexer": "ipython3",
   "version": "3.8.8"
  },
  "toc": {
   "base_numbering": 1,
   "nav_menu": {},
   "number_sections": true,
   "sideBar": true,
   "skip_h1_title": false,
   "title_cell": "Table of Contents",
   "title_sidebar": "Contents",
   "toc_cell": false,
   "toc_position": {},
   "toc_section_display": true,
   "toc_window_display": false
  }
 },
 "nbformat": 4,
 "nbformat_minor": 5
}
